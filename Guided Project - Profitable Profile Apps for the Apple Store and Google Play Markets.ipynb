{
 "cells": [
  {
   "cell_type": "markdown",
   "metadata": {
    "collapsed": true
   },
   "source": [
    "# About this project\n",
    "\n",
    "This is my first project in Jupyter. I am pretending that I work as a data analyst for a company that builds Android and iOS mobile apps. We make our apps available on Google Play and the App Store.\n",
    "\n",
    "We only build apps that are free to download and install, and our main source of revenue consists of **in-app ads.** This means our revenue for any given app is mostly influenced by the **number of users who use our app** — the more users that see and engage with the ads, the better. \n",
    "\n",
    "**Our goal for this project is to analyze data to help our developers understand what type of apps are likely to attract more users.**\n",
    "\n",
    "* Google Play Store Data Set [Documentation](https://www.kaggle.com/lava18/google-play-store-apps)\n",
    "* Apple App Store Data Set [Documentation](https://www.kaggle.com/ramamet4/app-store-apple-data-set-10k-apps)\n",
    "* [solution set](https://github.com/dataquestio/solutions/blob/master/Mission350Solutions.ipynb)\n"
   ]
  },
  {
   "cell_type": "code",
   "execution_count": 1,
   "metadata": {},
   "outputs": [
    {
     "name": "stdout",
     "output_type": "stream",
     "text": [
      "['id', 'track_name', 'size_bytes', 'currency', 'price', 'rating_count_tot', 'rating_count_ver', 'user_rating', 'user_rating_ver', 'ver', 'cont_rating', 'prime_genre', 'sup_devices.num', 'ipadSc_urls.num', 'lang.num', 'vpp_lic']\n"
     ]
    }
   ],
   "source": [
    "#read apple store data\n",
    "opened_file = open('AppleStore.csv')\n",
    "from csv import reader\n",
    "read_file = reader(opened_file)\n",
    "apple_apps_data = list(read_file)\n",
    "apple_apps_header = apple_apps_data[0]\n",
    "apple_apps_data = apple_apps_data[1:]\n",
    "print(apple_apps_header)"
   ]
  },
  {
   "cell_type": "code",
   "execution_count": 2,
   "metadata": {},
   "outputs": [
    {
     "name": "stdout",
     "output_type": "stream",
     "text": [
      "['App', 'Category', 'Rating', 'Reviews', 'Size', 'Installs', 'Type', 'Price', 'Content Rating', 'Genres', 'Last Updated', 'Current Ver', 'Android Ver']\n"
     ]
    }
   ],
   "source": [
    "#read Google store data\n",
    "opened_file = open('googleplaystore.csv')\n",
    "from csv import reader\n",
    "read_file = reader(opened_file)\n",
    "google_apps_data = list(read_file)\n",
    "google_apps_header = google_apps_data[0]\n",
    "google_apps_data = google_apps_data[1:]\n",
    "print(google_apps_header)\n"
   ]
  },
  {
   "cell_type": "markdown",
   "metadata": {},
   "source": [
    "# Explore data function\n",
    "\n",
    "* Takes in four parameters\n",
    " *  `dataset`, which is expected to be a list of lists\n",
    " * `start` and `end`, which are both expected to be integers and represent the starting and the ending indices of a slice from the data set\n",
    " * `rows_and_colums`, which is expected to be a boolean and has a `False` as a default argument\n",
    "* Slices the data set using `dataset[start:end]`\n",
    "* for each row printed, it adds a new line use `print('\\n')`\n",
    "* Prints the number of rows and columns if `rows_and_columns` is `True`"
   ]
  },
  {
   "cell_type": "code",
   "execution_count": 3,
   "metadata": {},
   "outputs": [],
   "source": [
    "def explore_data(dataset, start, end, rows_and_columns=False):\n",
    "    dataset_slice = dataset[start:end]    \n",
    "    for row in dataset_slice:\n",
    "        print(row)\n",
    "        print('\\n') # adds a new (empty) line after each row\n",
    "\n",
    "    if rows_and_columns:\n",
    "        print('Number of rows:', len(dataset))\n",
    "        print('Number of columns:', len(dataset[0]))"
   ]
  },
  {
   "cell_type": "code",
   "execution_count": 4,
   "metadata": {},
   "outputs": [
    {
     "name": "stdout",
     "output_type": "stream",
     "text": [
      "['389801252', 'Instagram', '113954816', 'USD', '0.0', '2161558', '1289', '4.5', '4.0', '10.23', '12+', 'Photo & Video', '37', '0', '29', '1']\n",
      "\n",
      "\n",
      "['529479190', 'Clash of Clans', '116476928', 'USD', '0.0', '2130805', '579', '4.5', '4.5', '9.24.12', '9+', 'Games', '38', '5', '18', '1']\n",
      "\n",
      "\n",
      "['420009108', 'Temple Run', '65921024', 'USD', '0.0', '1724546', '3842', '4.5', '4.0', '1.6.2', '9+', 'Games', '40', '5', '1', '1']\n",
      "\n",
      "\n",
      "Number of rows: 7197\n",
      "Number of columns: 16\n"
     ]
    }
   ],
   "source": [
    "explore_data(apple_apps_data, 1, 4, True)"
   ]
  },
  {
   "cell_type": "code",
   "execution_count": 5,
   "metadata": {},
   "outputs": [
    {
     "name": "stdout",
     "output_type": "stream",
     "text": [
      "['Coloring book moana', 'ART_AND_DESIGN', '3.9', '967', '14M', '500,000+', 'Free', '0', 'Everyone', 'Art & Design;Pretend Play', 'January 15, 2018', '2.0.0', '4.0.3 and up']\n",
      "\n",
      "\n",
      "['U Launcher Lite – FREE Live Cool Themes, Hide Apps', 'ART_AND_DESIGN', '4.7', '87510', '8.7M', '5,000,000+', 'Free', '0', 'Everyone', 'Art & Design', 'August 1, 2018', '1.2.4', '4.0.3 and up']\n",
      "\n",
      "\n",
      "['Sketch - Draw & Paint', 'ART_AND_DESIGN', '4.5', '215644', '25M', '50,000,000+', 'Free', '0', 'Teen', 'Art & Design', 'June 8, 2018', 'Varies with device', '4.2 and up']\n",
      "\n",
      "\n",
      "Number of rows: 10841\n",
      "Number of columns: 13\n"
     ]
    }
   ],
   "source": [
    "explore_data(google_apps_data, 1, 4, True)"
   ]
  },
  {
   "cell_type": "markdown",
   "metadata": {},
   "source": [
    "# Data Cleaning\n",
    "* Detect inaccurate data and correct or remove it\n",
    "* Detect duplicate data and remove the duplicates\n",
    "* Remove non-english apps\n",
    "* Remove paid apps"
   ]
  },
  {
   "cell_type": "code",
   "execution_count": 6,
   "metadata": {},
   "outputs": [
    {
     "name": "stdout",
     "output_type": "stream",
     "text": [
      "['Life Made WI-Fi Touchscreen Photo Frame', '1.9', '19', '3.0M', '1,000+', 'Free', '0', 'Everyone', '', 'February 11, 2018', '1.0.19', '4.0 and up']\n"
     ]
    }
   ],
   "source": [
    "print(google_apps_data[10472])"
   ]
  },
  {
   "cell_type": "code",
   "execution_count": 7,
   "metadata": {},
   "outputs": [],
   "source": [
    "del google_apps_data[10472]"
   ]
  },
  {
   "cell_type": "code",
   "execution_count": 8,
   "metadata": {},
   "outputs": [
    {
     "name": "stdout",
     "output_type": "stream",
     "text": [
      "[]\n"
     ]
    }
   ],
   "source": [
    "#Removing Duplicates ios App Store\n",
    "ios_unique_apps = [] \n",
    "ios_duplicate_apps = [] \n",
    "\n",
    "for app in apple_apps_data: \n",
    "    app_name = app[0] \n",
    "\n",
    "    if app_name not in ios_unique_apps:\n",
    "        ios_unique_apps.append(app_name)\n",
    "    else:\n",
    "        ios_duplicate_apps.append(app)\n",
    "        \n",
    "print(ios_duplicate_apps)"
   ]
  },
  {
   "cell_type": "code",
   "execution_count": 9,
   "metadata": {},
   "outputs": [
    {
     "name": "stdout",
     "output_type": "stream",
     "text": [
      "Number of duplicate apps: 1181\n",
      "\n",
      "\n",
      "Examples of duplicate apps: [['Quick PDF Scanner + OCR FREE', 'BUSINESS', '4.2', '80805', 'Varies with device', '5,000,000+', 'Free', '0', 'Everyone', 'Business', 'February 26, 2018', 'Varies with device', '4.0.3 and up'], ['Box', 'BUSINESS', '4.2', '159872', 'Varies with device', '10,000,000+', 'Free', '0', 'Everyone', 'Business', 'July 31, 2018', 'Varies with device', 'Varies with device'], ['Google My Business', 'BUSINESS', '4.4', '70991', 'Varies with device', '5,000,000+', 'Free', '0', 'Everyone', 'Business', 'July 24, 2018', '2.19.0.204537701', '4.4 and up'], ['ZOOM Cloud Meetings', 'BUSINESS', '4.4', '31614', '37M', '10,000,000+', 'Free', '0', 'Everyone', 'Business', 'July 20, 2018', '4.1.28165.0716', '4.0 and up'], ['join.me - Simple Meetings', 'BUSINESS', '4.0', '6989', 'Varies with device', '1,000,000+', 'Free', '0', 'Everyone', 'Business', 'July 16, 2018', '4.3.0.508', '4.4 and up'], ['Box', 'BUSINESS', '4.2', '159872', 'Varies with device', '10,000,000+', 'Free', '0', 'Everyone', 'Business', 'July 31, 2018', 'Varies with device', 'Varies with device'], ['Zenefits', 'BUSINESS', '4.2', '296', '14M', '50,000+', 'Free', '0', 'Everyone', 'Business', 'June 15, 2018', '3.2.1', '4.1 and up'], ['Google Ads', 'BUSINESS', '4.3', '29313', '20M', '5,000,000+', 'Free', '0', 'Everyone', 'Business', 'July 30, 2018', '1.12.0', '4.0.3 and up'], ['Google My Business', 'BUSINESS', '4.4', '70991', 'Varies with device', '5,000,000+', 'Free', '0', 'Everyone', 'Business', 'July 24, 2018', '2.19.0.204537701', '4.4 and up'], ['Slack', 'BUSINESS', '4.4', '51507', 'Varies with device', '5,000,000+', 'Free', '0', 'Everyone', 'Business', 'August 2, 2018', 'Varies with device', 'Varies with device'], ['FreshBooks Classic', 'BUSINESS', '4.1', '1802', '26M', '100,000+', 'Free', '0', 'Everyone', 'Business', 'April 18, 2018', '1.7.14', '4.2 and up'], ['Insightly CRM', 'BUSINESS', '3.8', '1383', '51M', '100,000+', 'Free', '0', 'Everyone', 'Business', 'July 12, 2018', '3.24.1', '5.0 and up'], ['QuickBooks Accounting: Invoicing & Expenses', 'BUSINESS', '4.3', '23175', '41M', '1,000,000+', 'Free', '0', 'Everyone', 'Business', 'July 13, 2018', '18.7', '4.1 and up'], ['HipChat - Chat Built for Teams', 'BUSINESS', '3.8', '5868', '20M', '500,000+', 'Free', '0', 'Everyone', 'Business', 'July 3, 2018', '3.19.005', '4.1 and up'], ['Xero Accounting Software', 'BUSINESS', '3.5', '2111', 'Varies with device', '100,000+', 'Free', '0', 'Everyone', 'Business', 'July 30, 2018', 'Varies with device', 'Varies with device']]\n"
     ]
    }
   ],
   "source": [
    "#Removing Duplicates Google Play Store\n",
    "google_unique_apps = [] \n",
    "google_duplicate_apps = [] \n",
    "\n",
    "for app in google_apps_data: \n",
    "    app_name = app[0] \n",
    "\n",
    "    if app_name not in google_unique_apps:\n",
    "        google_unique_apps.append(app_name)\n",
    "    else:\n",
    "        google_duplicate_apps.append(app)\n",
    "        \n",
    "print('Number of duplicate apps:', len(google_duplicate_apps))\n",
    "print('\\n')\n",
    "print('Examples of duplicate apps:', google_duplicate_apps[:15])"
   ]
  },
  {
   "cell_type": "code",
   "execution_count": 10,
   "metadata": {},
   "outputs": [
    {
     "name": "stdout",
     "output_type": "stream",
     "text": [
      "9659\n"
     ]
    }
   ],
   "source": [
    "#Removing Duplicates from Google Play Store\n",
    "#Using number of reviews to determine most recent entry and deleting all older entries\n",
    "#the Reviews columns is at Index 3\n",
    "\n",
    "reviews_max = {}\n",
    "\n",
    "for app in google_apps_data:\n",
    "    name = app[0]\n",
    "    n_reviews = float(app[3])\n",
    "    if name in reviews_max and reviews_max[name] < n_reviews:\n",
    "        reviews_max[name] = n_reviews\n",
    "    else: \n",
    "        if name not in reviews_max:\n",
    "            reviews_max[name] = n_reviews\n",
    "            \n",
    "print(len(reviews_max))\n",
    "            "
   ]
  },
  {
   "cell_type": "code",
   "execution_count": 11,
   "metadata": {},
   "outputs": [
    {
     "name": "stdout",
     "output_type": "stream",
     "text": [
      "9659\n"
     ]
    }
   ],
   "source": [
    "#Removing duplicate rows from Android Play store\n",
    "android_clean = []\n",
    "already_added = []\n",
    "\n",
    "for app in google_apps_data:\n",
    "    name = app[0]\n",
    "    n_reviews = float(app[3])\n",
    "    if n_reviews == reviews_max[name] and name not in already_added:\n",
    "        #name not in already added to account for same duplicate entries with identical number of reviews\n",
    "        android_clean.append(app)\n",
    "        already_added.append(name)\n",
    "        \n",
    "print(len(android_clean))\n",
    "        "
   ]
  },
  {
   "cell_type": "markdown",
   "metadata": {},
   "source": [
    "# Removing non-english apps\n",
    "* Going to build a function to remove any non-english apps\n",
    "* Looping through each data set to remove non-english apps"
   ]
  },
  {
   "cell_type": "code",
   "execution_count": 12,
   "metadata": {},
   "outputs": [],
   "source": [
    "def check_for_english(string):\n",
    "    non_eng_count = 0\n",
    "    for character in string:\n",
    "        if ord(character) > 127:\n",
    "            non_eng_count += 1\n",
    "    if non_eng_count > 3:\n",
    "        return False\n",
    "    return True\n",
    "            \n",
    "    "
   ]
  },
  {
   "cell_type": "code",
   "execution_count": 13,
   "metadata": {},
   "outputs": [
    {
     "name": "stdout",
     "output_type": "stream",
     "text": [
      "True\n",
      "False\n",
      "True\n",
      "True\n"
     ]
    }
   ],
   "source": [
    "print(check_for_english('instagram'))\n",
    "print(check_for_english('爱奇艺PPS -《欢乐颂2》电视剧热播'))\n",
    "print(check_for_english('Docs To Go™ Free Office Suite'))\n",
    "print(check_for_english('Instachat 😜'))"
   ]
  },
  {
   "cell_type": "markdown",
   "metadata": {},
   "source": [
    "* going to create two new lists\n",
    "    1. iOS english only | will use `apple_apps_data`\n",
    "    2. Google play english only | will use `Android_clean`\n",
    "    \n",
    "* will loop through each data set, check the name in Index 0, run the name through the `check_for_enlish` function, and if it returns true, we'll append the row to our english only list."
   ]
  },
  {
   "cell_type": "code",
   "execution_count": 22,
   "metadata": {},
   "outputs": [
    {
     "name": "stdout",
     "output_type": "stream",
     "text": [
      "Apple Unique English Only Apps\n",
      "\n",
      "\n",
      "['389801252', 'Instagram', '113954816', 'USD', '0.0', '2161558', '1289', '4.5', '4.0', '10.23', '12+', 'Photo & Video', '37', '0', '29', '1']\n",
      "\n",
      "\n",
      "['529479190', 'Clash of Clans', '116476928', 'USD', '0.0', '2130805', '579', '4.5', '4.5', '9.24.12', '9+', 'Games', '38', '5', '18', '1']\n",
      "\n",
      "\n",
      "['420009108', 'Temple Run', '65921024', 'USD', '0.0', '1724546', '3842', '4.5', '4.0', '1.6.2', '9+', 'Games', '40', '5', '1', '1']\n",
      "\n",
      "\n",
      "Number of rows: 6183\n",
      "Number of columns: 16\n",
      "\n",
      "\n",
      "Google Unique English Only Apps\n",
      "\n",
      "\n",
      "['U Launcher Lite – FREE Live Cool Themes, Hide Apps', 'ART_AND_DESIGN', '4.7', '87510', '8.7M', '5,000,000+', 'Free', '0', 'Everyone', 'Art & Design', 'August 1, 2018', '1.2.4', '4.0.3 and up']\n",
      "\n",
      "\n",
      "['Sketch - Draw & Paint', 'ART_AND_DESIGN', '4.5', '215644', '25M', '50,000,000+', 'Free', '0', 'Teen', 'Art & Design', 'June 8, 2018', 'Varies with device', '4.2 and up']\n",
      "\n",
      "\n",
      "['Pixel Draw - Number Art Coloring Book', 'ART_AND_DESIGN', '4.3', '967', '2.8M', '100,000+', 'Free', '0', 'Everyone', 'Art & Design;Creativity', 'June 20, 2018', '1.1', '4.4 and up']\n",
      "\n",
      "\n",
      "Number of rows: 9614\n",
      "Number of columns: 13\n"
     ]
    }
   ],
   "source": [
    "apple_apps_eng_only_data = []\n",
    "google_apps_eng_only_data = []\n",
    "\n",
    "for row in apple_apps_data:\n",
    "    if check_for_english(row[1]) == True:\n",
    "        apple_apps_eng_only_data.append(row)\n",
    "\n",
    "for row in android_clean:\n",
    "    if check_for_english(row[0]) == True:\n",
    "        google_apps_eng_only_data.append(row)\n",
    "        \n",
    "print('Apple Unique English Only Apps')\n",
    "print('\\n')\n",
    "explore_data(apple_apps_eng_only_data, 1, 4, True)\n",
    "print('\\n')\n",
    "print('Google Unique English Only Apps')\n",
    "print('\\n')\n",
    "explore_data(google_apps_eng_only_data, 1, 4, True)"
   ]
  },
  {
   "cell_type": "markdown",
   "metadata": {},
   "source": [
    "# Removing Paid Apps\n",
    "\n",
    "* iOS floats their price in Index 4\n",
    "* Android marks their apps as \"Free\" in Index 6\n"
   ]
  },
  {
   "cell_type": "code",
   "execution_count": 38,
   "metadata": {},
   "outputs": [
    {
     "name": "stdout",
     "output_type": "stream",
     "text": [
      "Google Free\n",
      "\n",
      "\n",
      "['U Launcher Lite – FREE Live Cool Themes, Hide Apps', 'ART_AND_DESIGN', '4.7', '87510', '8.7M', '5,000,000+', 'Free', '0', 'Everyone', 'Art & Design', 'August 1, 2018', '1.2.4', '4.0.3 and up']\n",
      "\n",
      "\n",
      "['Sketch - Draw & Paint', 'ART_AND_DESIGN', '4.5', '215644', '25M', '50,000,000+', 'Free', '0', 'Teen', 'Art & Design', 'June 8, 2018', 'Varies with device', '4.2 and up']\n",
      "\n",
      "\n",
      "['Pixel Draw - Number Art Coloring Book', 'ART_AND_DESIGN', '4.3', '967', '2.8M', '100,000+', 'Free', '0', 'Everyone', 'Art & Design;Creativity', 'June 20, 2018', '1.1', '4.4 and up']\n",
      "\n",
      "\n",
      "Number of rows: 8863\n",
      "Number of columns: 13\n",
      "Apple Free\n",
      "\n",
      "\n",
      "['389801252', 'Instagram', '113954816', 'USD', '0.0', '2161558', '1289', '4.5', '4.0', '10.23', '12+', 'Photo & Video', '37', '0', '29', '1']\n",
      "\n",
      "\n",
      "['529479190', 'Clash of Clans', '116476928', 'USD', '0.0', '2130805', '579', '4.5', '4.5', '9.24.12', '9+', 'Games', '38', '5', '18', '1']\n",
      "\n",
      "\n",
      "['420009108', 'Temple Run', '65921024', 'USD', '0.0', '1724546', '3842', '4.5', '4.0', '1.6.2', '9+', 'Games', '40', '5', '1', '1']\n",
      "\n",
      "\n",
      "Number of rows: 3222\n",
      "Number of columns: 16\n",
      "Google Paid\n",
      "\n",
      "\n",
      "['Tiny Scanner Pro: PDF Doc Scan', 'BUSINESS', '4.8', '10295', '39M', '100,000+', 'Paid', '$4.99', 'Everyone', 'Business', 'April 11, 2017', '3.4.6', '3.0 and up']\n",
      "\n",
      "\n",
      "['Puffin Browser Pro', 'COMMUNICATION', '4.0', '18247', 'Varies with device', '100,000+', 'Paid', '$3.99', 'Everyone', 'Communication', 'July 5, 2018', '7.5.3.20547', '4.1 and up']\n",
      "\n",
      "\n",
      "['Truth or Dare Pro', 'DATING', 'NaN', '0', '20M', '50+', 'Paid', '$1.49', 'Teen', 'Dating', 'September 1, 2017', '1.0', '4.0 and up']\n",
      "\n",
      "\n",
      "Number of rows: 751\n",
      "Number of columns: 13\n",
      "Apple Paid\n",
      "\n",
      "\n",
      "['500116670', 'Clear Vision (17+)', '37879808', 'USD', '0.99', '541693', '69225', '4.5', '4.5', '1.1.3', '17+', 'Games', '43', '5', '1', '1']\n",
      "\n",
      "\n",
      "['479516143', 'Minecraft: Pocket Edition', '147787776', 'USD', '6.99', '522012', '1148', '4.5', '4.5', '1.1', '9+', 'Games', '37', '1', '11', '1']\n",
      "\n",
      "\n",
      "['350642635', 'Plants vs. Zombies', '105379840', 'USD', '0.99', '426463', '680', '5.0', '4.0', '1.9.13', '9+', 'Games', '38', '0', '5', '1']\n",
      "\n",
      "\n",
      "Number of rows: 2961\n",
      "Number of columns: 16\n"
     ]
    }
   ],
   "source": [
    "google_apps_paid = []\n",
    "apple_apps_paid = []\n",
    "google_apps_free = []\n",
    "apple_apps_free = []\n",
    "\n",
    "for row in google_apps_eng_only_data:\n",
    "    if row[6] == 'Free':\n",
    "        google_apps_free.append(row)\n",
    "    else:\n",
    "        google_apps_paid.append(row)\n",
    "\n",
    "for row in apple_apps_eng_only_data:\n",
    "    if float(row[4]) == 0:\n",
    "        apple_apps_free.append(row)\n",
    "    else:\n",
    "        apple_apps_paid.append(row)\n",
    "\n",
    "print('Google Free')\n",
    "print('\\n')\n",
    "explore_data(google_apps_free, 1, 4, True)\n",
    "print('Apple Free')\n",
    "print('\\n')\n",
    "explore_data(apple_apps_free, 1, 4, True)\n",
    "print('Google Paid')\n",
    "print('\\n')\n",
    "explore_data(google_apps_paid, 1, 4, True)\n",
    "print('Apple Paid')\n",
    "print('\\n')\n",
    "explore_data(apple_apps_paid, 1, 4, True)\n"
   ]
  },
  {
   "cell_type": "markdown",
   "metadata": {},
   "source": [
    "# Beginning Analysis\n",
    "\n",
    "Because our end goal is to add the app on both Google Play and the App Store, we need to find app profiles that are successful on both markets. For instance, a profile that works well for both markets might be a productivity app that makes use of gamification.\n",
    "\n",
    "Let's begin the analysis by getting a sense of what are the most common genres for each market. For this, we'll need to build frequency tables for a few columns in our data sets.\n",
    "\n",
    "**Google**\n",
    "'App', 'Category', 'Rating', 'Reviews', 'Size', 'Installs', 'Type', 'Price', 'Content Rating', 'Genres', 'Last Updated', 'Current Ver', 'Android Ver'\n",
    "\n",
    "* Category: 1\n",
    "* Rating: 2\n",
    "* Installs: 5\n",
    "* Content Rating:8\n",
    "* Genres:9\n",
    "\n",
    "**Apple**\n",
    "\n",
    "'id', 'track_name', 'size_bytes', 'currency', 'price', 'rating_count_tot', 'rating_count_ver', 'user_rating', 'user_rating_ver', 'ver', 'cont_rating', 'prime_genre', 'sup_devices.num', 'ipadSc_urls.num', 'lang.num', 'vpp_lic'\n",
    "\n",
    "* Rating count: 5\n",
    "* User rating: 7\n",
    "* Prime genre: 11\n",
    "\n"
   ]
  },
  {
   "cell_type": "code",
   "execution_count": 58,
   "metadata": {},
   "outputs": [
    {
     "name": "stdout",
     "output_type": "stream",
     "text": [
      "{'ART_AND_DESIGN': 0.64, 'AUTO_AND_VEHICLES': 0.93, 'BEAUTY': 0.6, 'BOOKS_AND_REFERENCE': 2.14, 'BUSINESS': 4.59, 'COMICS': 0.62, 'COMMUNICATION': 3.24, 'DATING': 1.86, 'EDUCATION': 1.16, 'ENTERTAINMENT': 0.96, 'EVENTS': 0.71, 'FINANCE': 3.7, 'FOOD_AND_DRINK': 1.24, 'HEALTH_AND_FITNESS': 3.08, 'HOUSE_AND_HOME': 0.82, 'LIBRARIES_AND_DEMO': 0.94, 'LIFESTYLE': 3.9, 'GAME': 9.73, 'FAMILY': 18.9, 'MEDICAL': 3.53, 'SOCIAL': 2.66, 'SHOPPING': 2.25, 'PHOTOGRAPHY': 2.94, 'SPORTS': 3.4, 'TRAVEL_AND_LOCAL': 2.34, 'TOOLS': 8.46, 'PERSONALIZATION': 3.32, 'PRODUCTIVITY': 3.89, 'PARENTING': 0.65, 'WEATHER': 0.8, 'VIDEO_PLAYERS': 1.79, 'NEWS_AND_MAGAZINES': 2.8, 'MAPS_AND_NAVIGATION': 1.4}\n"
     ]
    }
   ],
   "source": [
    "google_categories ={}\n",
    "total_apps = 0\n",
    "\n",
    "for row in google_apps_free:\n",
    "    total_apps +=1\n",
    "    category = row[1]\n",
    "    if category not in google_categories:\n",
    "        google_categories[category] = 1\n",
    "    else:\n",
    "        google_categories[category] += 1\n",
    "\n",
    "    google_cat_percentages = {}\n",
    "for key in google_categories:\n",
    "    percentage = (google_categories[key] / total_apps) * 100\n",
    "    google_cat_percentages[key] = round(percentage, 2)\n",
    "        \n",
    "print(google_cat_percentages)\n",
    "    "
   ]
  },
  {
   "cell_type": "code",
   "execution_count": 75,
   "metadata": {},
   "outputs": [],
   "source": [
    "def explore_column(dataset, index_col):\n",
    "    temp_dict = {}\n",
    "    temp_dict_perc = {}\n",
    "    total = 0\n",
    "\n",
    "    for row in dataset:\n",
    "        total += 1\n",
    "        column = row[index_col]\n",
    "        if column not in temp_dict:\n",
    "            temp_dict[column] = 1\n",
    "        else:\n",
    "            temp_dict[column] += 1\n",
    "            \n",
    "    for key in temp_dict:\n",
    "        percentage = (temp_dict[key]/ total) * 100\n",
    "        temp_dict_perc[key] = round(percentage, 2)\n",
    "\n",
    "    return temp_dict_perc\n",
    "    "
   ]
  },
  {
   "cell_type": "code",
   "execution_count": 76,
   "metadata": {},
   "outputs": [
    {
     "data": {
      "text/plain": [
       "{'Art & Design': 0.6,\n",
       " 'Art & Design;Creativity': 0.07,\n",
       " 'Auto & Vehicles': 0.93,\n",
       " 'Beauty': 0.6,\n",
       " 'Books & Reference': 2.14,\n",
       " 'Business': 4.59,\n",
       " 'Comics': 0.61,\n",
       " 'Comics;Creativity': 0.01,\n",
       " 'Communication': 3.24,\n",
       " 'Dating': 1.86,\n",
       " 'Education': 5.35,\n",
       " 'Education;Creativity': 0.05,\n",
       " 'Education;Education': 0.34,\n",
       " 'Education;Pretend Play': 0.06,\n",
       " 'Education;Brain Games': 0.03,\n",
       " 'Entertainment': 6.07,\n",
       " 'Entertainment;Brain Games': 0.08,\n",
       " 'Entertainment;Creativity': 0.03,\n",
       " 'Entertainment;Music & Video': 0.17,\n",
       " 'Events': 0.71,\n",
       " 'Finance': 3.7,\n",
       " 'Food & Drink': 1.24,\n",
       " 'Health & Fitness': 3.08,\n",
       " 'House & Home': 0.82,\n",
       " 'Libraries & Demo': 0.94,\n",
       " 'Lifestyle': 3.89,\n",
       " 'Lifestyle;Pretend Play': 0.01,\n",
       " 'Card': 0.45,\n",
       " 'Arcade': 1.85,\n",
       " 'Puzzle': 1.13,\n",
       " 'Racing': 0.99,\n",
       " 'Sports': 3.46,\n",
       " 'Casual': 1.76,\n",
       " 'Simulation': 2.04,\n",
       " 'Adventure': 0.68,\n",
       " 'Trivia': 0.42,\n",
       " 'Action': 3.1,\n",
       " 'Word': 0.26,\n",
       " 'Role Playing': 0.94,\n",
       " 'Strategy': 0.9,\n",
       " 'Board': 0.38,\n",
       " 'Music': 0.2,\n",
       " 'Action;Action & Adventure': 0.1,\n",
       " 'Casual;Brain Games': 0.14,\n",
       " 'Educational;Creativity': 0.03,\n",
       " 'Puzzle;Brain Games': 0.17,\n",
       " 'Educational;Education': 0.39,\n",
       " 'Casual;Pretend Play': 0.24,\n",
       " 'Educational;Brain Games': 0.07,\n",
       " 'Art & Design;Pretend Play': 0.01,\n",
       " 'Educational;Pretend Play': 0.09,\n",
       " 'Entertainment;Education': 0.01,\n",
       " 'Casual;Education': 0.02,\n",
       " 'Casual;Creativity': 0.07,\n",
       " 'Casual;Action & Adventure': 0.14,\n",
       " 'Music;Music & Video': 0.02,\n",
       " 'Arcade;Pretend Play': 0.01,\n",
       " 'Adventure;Action & Adventure': 0.03,\n",
       " 'Role Playing;Action & Adventure': 0.03,\n",
       " 'Simulation;Pretend Play': 0.02,\n",
       " 'Puzzle;Creativity': 0.02,\n",
       " 'Simulation;Action & Adventure': 0.08,\n",
       " 'Racing;Action & Adventure': 0.17,\n",
       " 'Sports;Action & Adventure': 0.02,\n",
       " 'Educational;Action & Adventure': 0.03,\n",
       " 'Arcade;Action & Adventure': 0.12,\n",
       " 'Entertainment;Action & Adventure': 0.03,\n",
       " 'Art & Design;Action & Adventure': 0.01,\n",
       " 'Puzzle;Action & Adventure': 0.03,\n",
       " 'Education;Action & Adventure': 0.03,\n",
       " 'Strategy;Action & Adventure': 0.01,\n",
       " 'Music & Audio;Music & Video': 0.01,\n",
       " 'Health & Fitness;Education': 0.01,\n",
       " 'Board;Action & Adventure': 0.02,\n",
       " 'Board;Brain Games': 0.08,\n",
       " 'Casual;Music & Video': 0.01,\n",
       " 'Education;Music & Video': 0.03,\n",
       " 'Role Playing;Pretend Play': 0.05,\n",
       " 'Entertainment;Pretend Play': 0.02,\n",
       " 'Medical': 3.53,\n",
       " 'Social': 2.66,\n",
       " 'Shopping': 2.25,\n",
       " 'Photography': 2.94,\n",
       " 'Travel & Local': 2.32,\n",
       " 'Travel & Local;Action & Adventure': 0.01,\n",
       " 'Tools': 8.45,\n",
       " 'Tools;Education': 0.01,\n",
       " 'Personalization': 3.32,\n",
       " 'Productivity': 3.89,\n",
       " 'Parenting': 0.5,\n",
       " 'Parenting;Music & Video': 0.07,\n",
       " 'Parenting;Education': 0.08,\n",
       " 'Parenting;Brain Games': 0.01,\n",
       " 'Weather': 0.8,\n",
       " 'Video Players & Editors': 1.77,\n",
       " 'Video Players & Editors;Music & Video': 0.02,\n",
       " 'Video Players & Editors;Creativity': 0.01,\n",
       " 'News & Magazines': 2.8,\n",
       " 'Maps & Navigation': 1.4,\n",
       " 'Health & Fitness;Action & Adventure': 0.01,\n",
       " 'Educational': 0.37,\n",
       " 'Casino': 0.43,\n",
       " 'Trivia;Education': 0.01,\n",
       " 'Lifestyle;Education': 0.01,\n",
       " 'Card;Action & Adventure': 0.01,\n",
       " 'Books & Reference;Education': 0.01,\n",
       " 'Simulation;Education': 0.01,\n",
       " 'Puzzle;Education': 0.01,\n",
       " 'Adventure;Education': 0.01,\n",
       " 'Role Playing;Brain Games': 0.01,\n",
       " 'Strategy;Education': 0.01,\n",
       " 'Racing;Pretend Play': 0.01,\n",
       " 'Communication;Creativity': 0.01,\n",
       " 'Strategy;Creativity': 0.01}"
      ]
     },
     "execution_count": 76,
     "metadata": {},
     "output_type": "execute_result"
    }
   ],
   "source": [
    "explore_column(google_apps_free, 9) #Genres"
   ]
  },
  {
   "cell_type": "code",
   "execution_count": 63,
   "metadata": {},
   "outputs": [
    {
     "name": "stdout",
     "output_type": "stream",
     "text": [
      "{'Games': 51.27, 'Entertainment': 6.59, 'Music': 2.4, 'Photo & Video': 6.11, 'Health & Fitness': 3.38, 'Business': 1.22, 'Weather': 1.38, 'Utilities': 4.46, 'News': 0.47, 'Education': 9.86, 'Reference': 1.18, 'Productivity': 3.78, 'Navigation': 0.74, 'Lifestyle': 1.62, 'Book': 1.38, 'Finance': 0.44, 'Sports': 1.18, 'Medical': 0.51, 'Travel': 0.68, 'Shopping': 0.03, 'Food & Drink': 0.61, 'Social Networking': 0.68, 'Catalogs': 0.03}\n"
     ]
    }
   ],
   "source": [
    "explore_column(apple_apps_paid, 11)"
   ]
  },
  {
   "cell_type": "code",
   "execution_count": 77,
   "metadata": {},
   "outputs": [],
   "source": [
    "def display_table(dataset, index):\n",
    "    table = explore_column(dataset, index)\n",
    "    table_display = []\n",
    "    for key in table:\n",
    "        key_val_as_tuple = (table[key], key)\n",
    "        table_display.append(key_val_as_tuple)\n",
    "        \n",
    "    table_sorted = sorted(table_display, reverse = True)\n",
    "    for entry in table_sorted:\n",
    "        print(entry[1], ':', entry[0])"
   ]
  },
  {
   "cell_type": "code",
   "execution_count": 78,
   "metadata": {},
   "outputs": [
    {
     "name": "stdout",
     "output_type": "stream",
     "text": [
      "Games : 51.27\n",
      "Education : 9.86\n",
      "Entertainment : 6.59\n",
      "Photo & Video : 6.11\n",
      "Utilities : 4.46\n",
      "Productivity : 3.78\n",
      "Health & Fitness : 3.38\n",
      "Music : 2.4\n",
      "Lifestyle : 1.62\n",
      "Weather : 1.38\n",
      "Book : 1.38\n",
      "Business : 1.22\n",
      "Sports : 1.18\n",
      "Reference : 1.18\n",
      "Navigation : 0.74\n",
      "Travel : 0.68\n",
      "Social Networking : 0.68\n",
      "Food & Drink : 0.61\n",
      "Medical : 0.51\n",
      "News : 0.47\n",
      "Finance : 0.44\n",
      "Shopping : 0.03\n",
      "Catalogs : 0.03\n"
     ]
    }
   ],
   "source": [
    "#apple Prime Genres\n",
    "display_table(apple_apps_paid, 11)"
   ]
  },
  {
   "cell_type": "markdown",
   "metadata": {},
   "source": [
    "# Apple Analysis\n",
    "* Gaming is over 50% of apps that are paid for in the app store\n",
    "* Professional comprises: Education, Utlities, Productivity ~18%\n",
    "* Entertainment at 7%\n",
    "* Hobby comprises: Photo & Video, Music, Lifestyle: 10%\n",
    "* Health: ~4% \n",
    "\n",
    "## Additional Analysis Needed\n",
    "\n",
    "* What avg price are people willing to pay based on the app type?\n",
    "* How many downloads do these apps get?"
   ]
  },
  {
   "cell_type": "code",
   "execution_count": 79,
   "metadata": {
    "scrolled": true
   },
   "outputs": [
    {
     "name": "stdout",
     "output_type": "stream",
     "text": [
      "FAMILY : 24.37\n",
      "MEDICAL : 10.92\n",
      "GAME : 10.92\n",
      "PERSONALIZATION : 10.79\n",
      "TOOLS : 10.39\n",
      "PRODUCTIVITY : 3.73\n",
      "BOOKS_AND_REFERENCE : 3.73\n",
      "COMMUNICATION : 3.6\n",
      "SPORTS : 3.2\n",
      "PHOTOGRAPHY : 2.53\n",
      "LIFESTYLE : 2.4\n",
      "FINANCE : 2.26\n",
      "HEALTH_AND_FITNESS : 2.0\n",
      "TRAVEL_AND_LOCAL : 1.6\n",
      "BUSINESS : 1.6\n",
      "WEATHER : 1.07\n",
      "MAPS_AND_NAVIGATION : 0.67\n",
      "DATING : 0.67\n",
      "VIDEO_PLAYERS : 0.53\n",
      "SOCIAL : 0.4\n",
      "EDUCATION : 0.4\n",
      "ART_AND_DESIGN : 0.4\n",
      "SHOPPING : 0.27\n",
      "PARENTING : 0.27\n",
      "NEWS_AND_MAGAZINES : 0.27\n",
      "FOOD_AND_DRINK : 0.27\n",
      "ENTERTAINMENT : 0.27\n",
      "AUTO_AND_VEHICLES : 0.27\n",
      "LIBRARIES_AND_DEMO : 0.13\n",
      "EVENTS : 0.13\n"
     ]
    }
   ],
   "source": [
    "#Google Categories\n",
    "display_table(google_apps_paid, 1)"
   ]
  },
  {
   "cell_type": "markdown",
   "metadata": {},
   "source": [
    "# Google Category Analysis\n",
    "* Family at 25%\n",
    "* Professional comprises: Tools, Productivity, Bookes ~18%\n",
    "* Health + Medical: ~13% \n",
    "* Personalization is its own category: 11%\n",
    "* Entertainment: Gaming at 7%\n",
    "* Hobby comprises: Photo, Lifestyle: 5%\n",
    "\n",
    "\n",
    "## Additional Analysis Needed\n",
    "\n",
    "* What avg price are people willing to pay based on the app type?\n",
    "* How many downloads do these apps get?"
   ]
  },
  {
   "cell_type": "code",
   "execution_count": 80,
   "metadata": {},
   "outputs": [
    {
     "name": "stdout",
     "output_type": "stream",
     "text": [
      "Medical : 10.92\n",
      "Personalization : 10.79\n",
      "Tools : 10.39\n",
      "Education : 3.86\n",
      "Productivity : 3.73\n",
      "Books & Reference : 3.73\n",
      "Communication : 3.6\n",
      "Sports : 3.2\n",
      "Action : 3.2\n",
      "Role Playing : 2.8\n",
      "Arcade : 2.66\n",
      "Puzzle : 2.53\n",
      "Photography : 2.53\n",
      "Entertainment : 2.53\n",
      "Lifestyle : 2.4\n",
      "Finance : 2.26\n",
      "Health & Fitness : 2.0\n",
      "Strategy : 1.86\n",
      "Travel & Local : 1.6\n",
      "Education;Pretend Play : 1.6\n",
      "Business : 1.6\n",
      "Adventure : 1.6\n",
      "Simulation : 1.2\n",
      "Casual : 1.2\n",
      "Weather : 1.07\n",
      "Board : 1.07\n",
      "Card : 0.93\n",
      "Board;Brain Games : 0.93\n",
      "Maps & Navigation : 0.67\n",
      "Educational;Pretend Play : 0.67\n",
      "Education;Education : 0.67\n",
      "Dating : 0.67\n",
      "Video Players & Editors : 0.53\n",
      "Educational : 0.53\n",
      "Casual;Pretend Play : 0.53\n",
      "Social : 0.4\n",
      "Racing : 0.4\n",
      "Educational;Education : 0.4\n",
      "Art & Design : 0.4\n",
      "Arcade;Action & Adventure : 0.4\n",
      "Action;Action & Adventure : 0.4\n",
      "Sports;Action & Adventure : 0.27\n",
      "Simulation;Education : 0.27\n",
      "Shopping : 0.27\n",
      "Puzzle;Brain Games : 0.27\n",
      "Parenting : 0.27\n",
      "News & Magazines : 0.27\n",
      "Food & Drink : 0.27\n",
      "Educational;Creativity : 0.27\n",
      "Education;Creativity : 0.27\n",
      "Auto & Vehicles : 0.27\n",
      "Adventure;Action & Adventure : 0.27\n",
      "Strategy;Action & Adventure : 0.13\n",
      "Simulation;Pretend Play : 0.13\n",
      "Role Playing;Education : 0.13\n",
      "Role Playing;Action & Adventure : 0.13\n",
      "Racing;Action & Adventure : 0.13\n",
      "Music;Music & Video : 0.13\n",
      "Music : 0.13\n",
      "Libraries & Demo : 0.13\n",
      "Events : 0.13\n",
      "Education;Brain Games : 0.13\n",
      "Education;Action & Adventure : 0.13\n",
      "Casual;Education : 0.13\n",
      "Casual;Action & Adventure : 0.13\n",
      "Casino : 0.13\n",
      "Card;Action & Adventure : 0.13\n",
      "Books & Reference;Education : 0.13\n",
      "Books & Reference;Creativity : 0.13\n",
      "Board;Pretend Play : 0.13\n",
      "Board;Action & Adventure : 0.13\n",
      "Adventure;Brain Games : 0.13\n"
     ]
    }
   ],
   "source": [
    "#Google Genres\n",
    "display_table(google_apps_paid, 9)"
   ]
  },
  {
   "cell_type": "markdown",
   "metadata": {},
   "source": [
    "# Google Prime Genre Analysis\n",
    "* Long tail - need some way to further group\n",
    "* Health + Medical: ~13% \n",
    "* Personalization is its own category: 11%\n",
    "* Entertainment: Gaming at 7%\n",
    "* Hobby comprises: Photo, Lifestyle: 5%\n",
    "\n",
    "\n",
    "## Additional Analysis Needed\n",
    "\n",
    "* What avg price are people willing to pay based on the app type?\n",
    "* How many downloads do these apps get?"
   ]
  },
  {
   "cell_type": "markdown",
   "metadata": {},
   "source": [
    "# Approximate number of installs per genre\n",
    "* Isolate the apps of each genre.\n",
    "* Sum up the user ratings for the apps of that genre.\n",
    "* Divide the sum by the number of apps belonging to that genre (not by the total number of apps).\n"
   ]
  },
  {
   "cell_type": "code",
   "execution_count": 106,
   "metadata": {},
   "outputs": [
    {
     "name": "stdout",
     "output_type": "stream",
     "text": [
      "{'Games': 6695.86, 'Entertainment': 2131.51, 'Music': 2759.2, 'Photo & Video': 2531.52, 'Health & Fitness': 2679.85, 'Business': 4043.47, 'Weather': 3248.41, 'Utilities': 1326.68, 'News': 3872.36, 'Education': 640.97, 'Reference': 2400.37, 'Productivity': 2247.93, 'Navigation': 1174.59, 'Lifestyle': 902.77, 'Book': 320.41, 'Finance': 882.85, 'Sports': 253.74, 'Medical': 663.73, 'Travel': 602.95, 'Shopping': 2722.0, 'Food & Drink': 579.5, 'Social Networking': 393.0, 'Catalogs': 1309.0}\n"
     ]
    }
   ],
   "source": [
    "# My way of doing it without a nested loop\n",
    "apple_app_ratings = {}\n",
    "genre_count = {}\n",
    "total_apple_apps = 0\n",
    "for app in apple_apps_paid:\n",
    "    genre = app[11]\n",
    "    if genre not in apple_app_ratings:\n",
    "        apple_app_ratings[genre] = float(app[5])\n",
    "        genre_count[genre] = 1\n",
    "    else:\n",
    "        apple_app_ratings[genre] += float(app[5])\n",
    "        genre_count[genre] += 1\n",
    "        \n",
    "\n",
    "avg_apple_ratings = {}\n",
    "\n",
    "for genre in apple_app_ratings:\n",
    "    avg_apple_ratings[genre] = round(apple_app_ratings[genre] / genre_count[genre], 2)\n",
    "    \n",
    "print(avg_apple_ratings)\n",
    "    \n",
    "    "
   ]
  },
  {
   "cell_type": "code",
   "execution_count": 110,
   "metadata": {},
   "outputs": [
    {
     "name": "stdout",
     "output_type": "stream",
     "text": [
      "{'Games': 6695.86, 'Entertainment': 2131.51, 'Music': 2759.2, 'Photo & Video': 2531.52, 'Health & Fitness': 2679.85, 'Business': 4043.47, 'Weather': 3248.41, 'Utilities': 1326.68, 'News': 3872.36, 'Education': 640.97, 'Reference': 2400.37, 'Productivity': 2247.93, 'Navigation': 1174.59, 'Lifestyle': 902.77, 'Book': 320.41, 'Finance': 882.85, 'Sports': 253.74, 'Medical': 663.73, 'Travel': 602.95, 'Shopping': 2722.0, 'Food & Drink': 579.5, 'Social Networking': 393.0, 'Catalogs': 1309.0}\n"
     ]
    }
   ],
   "source": [
    "#With a nested loop\n",
    "\n",
    "unique_genres = explore_column(apple_apps_paid, 11)\n",
    "avg_apple_ratings_2 = {}\n",
    "\n",
    "for genre in unique_genres:\n",
    "    total = 0 # will store the sum of user ratings for each genre\n",
    "    len_genre = 0 # will store the number of appes for each genre\n",
    "    for app in apple_apps_paid:\n",
    "        genre_app = app[11]\n",
    "        if genre_app == genre:\n",
    "            total += float(app[5])\n",
    "            len_genre += 1\n",
    "    avg_apple_ratings_2[genre] = round(total / len_genre, 2)\n",
    "    \n",
    "print(avg_apple_ratings_2)         \n"
   ]
  },
  {
   "cell_type": "code",
   "execution_count": 111,
   "metadata": {},
   "outputs": [],
   "source": [
    "def dictionary_table(dictionary):\n",
    "    table_display = []\n",
    "    for key in dictionary:\n",
    "        key_val_as_tuple = (dictionary[key], key)\n",
    "        table_display.append(key_val_as_tuple)\n",
    "        \n",
    "    table_sorted = sorted(table_display, reverse = True)\n",
    "    for entry in table_sorted:\n",
    "        print(entry[1], ':', entry[0])"
   ]
  },
  {
   "cell_type": "code",
   "execution_count": 112,
   "metadata": {},
   "outputs": [
    {
     "name": "stdout",
     "output_type": "stream",
     "text": [
      "Games : 6695.86\n",
      "Business : 4043.47\n",
      "News : 3872.36\n",
      "Weather : 3248.41\n",
      "Music : 2759.2\n",
      "Shopping : 2722.0\n",
      "Health & Fitness : 2679.85\n",
      "Photo & Video : 2531.52\n",
      "Reference : 2400.37\n",
      "Productivity : 2247.93\n",
      "Entertainment : 2131.51\n",
      "Utilities : 1326.68\n",
      "Catalogs : 1309.0\n",
      "Navigation : 1174.59\n",
      "Lifestyle : 902.77\n",
      "Finance : 882.85\n",
      "Medical : 663.73\n",
      "Education : 640.97\n",
      "Travel : 602.95\n",
      "Food & Drink : 579.5\n",
      "Social Networking : 393.0\n",
      "Book : 320.41\n",
      "Sports : 253.74\n"
     ]
    }
   ],
   "source": [
    "dictionary_table(avg_apple_ratings)"
   ]
  },
  {
   "cell_type": "markdown",
   "metadata": {},
   "source": [
    "# Analysis\n",
    "* Business does not have a lot of apps on the app store as an overall percentage of paid, but it clearly does have a lot of installs. \n",
    "* Given that business generally has a higher willingness to pay, this seems like an interesting opportunity to explore further"
   ]
  },
  {
   "cell_type": "code",
   "execution_count": 117,
   "metadata": {},
   "outputs": [
    {
     "name": "stdout",
     "output_type": "stream",
     "text": [
      "GAME : 256097.0\n",
      "FAMILY : 115567.0\n",
      "WEATHER : 101500.0\n",
      "ENTERTAINMENT : 100000.0\n",
      "PHOTOGRAPHY : 98881.0\n",
      "LIFESTYLE : 65506.0\n",
      "SPORTS : 51826.0\n",
      "PRODUCTIVITY : 50431.0\n",
      "COMMUNICATION : 50372.0\n",
      "PERSONALIZATION : 40232.0\n",
      "EDUCATION : 34000.0\n",
      "HEALTH_AND_FITNESS : 31607.0\n",
      "FOOD_AND_DRINK : 30000.0\n",
      "PARENTING : 25050.0\n",
      "AUTO_AND_VEHICLES : 25025.0\n",
      "MAPS_AND_NAVIGATION : 24220.0\n",
      "TOOLS : 22147.0\n",
      "VIDEO_PLAYERS : 17750.0\n",
      "BUSINESS : 17731.0\n",
      "TRAVEL_AND_LOCAL : 15255.0\n",
      "FINANCE : 10918.0\n",
      "MEDICAL : 6838.0\n",
      "ART_AND_DESIGN : 5333.0\n",
      "SHOPPING : 5050.0\n",
      "NEWS_AND_MAGAZINES : 2750.0\n",
      "DATING : 2070.0\n",
      "SOCIAL : 2000.0\n",
      "BOOKS_AND_REFERENCE : 833.0\n",
      "LIBRARIES_AND_DEMO : 100.0\n",
      "EVENTS : 1.0\n"
     ]
    }
   ],
   "source": [
    "unique_genres_google_play = explore_column(google_apps_paid, 1)\n",
    "avg_google_play_installs = {}\n",
    "\n",
    "for category in unique_genres_google_play:\n",
    "    total = 0\n",
    "    len_category = 0\n",
    "    \n",
    "    for app in google_apps_paid:\n",
    "        category_app = app[1]\n",
    "        if category_app == category:\n",
    "            installs = app[5]\n",
    "            installs = installs.replace(',','')\n",
    "            installs = installs.replace('+', '')\n",
    "            installs = float(installs)\n",
    "            total += installs\n",
    "            len_category += 1\n",
    "            \n",
    "    avg_google_play_installs[category] = round(total / len_category, 0)\n",
    "    \n",
    "dictionary_table(avg_google_play_installs)"
   ]
  },
  {
   "cell_type": "code",
   "execution_count": null,
   "metadata": {},
   "outputs": [],
   "source": []
  }
 ],
 "metadata": {
  "kernelspec": {
   "display_name": "Python 3",
   "language": "python",
   "name": "python3"
  },
  "language_info": {
   "codemirror_mode": {
    "name": "ipython",
    "version": 3
   },
   "file_extension": ".py",
   "mimetype": "text/x-python",
   "name": "python",
   "nbconvert_exporter": "python",
   "pygments_lexer": "ipython3",
   "version": "3.7.4"
  }
 },
 "nbformat": 4,
 "nbformat_minor": 2
}
